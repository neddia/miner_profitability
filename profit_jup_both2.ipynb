{
 "cells": [
  {
   "cell_type": "code",
   "execution_count": 40,
   "metadata": {},
   "outputs": [
    {
     "data": {
      "application/vnd.jupyter.widget-view+json": {
       "model_id": "ac1507ef1de447a4b89c0cbd27d44f37",
       "version_major": 2,
       "version_minor": 0
      },
      "text/plain": [
       "interactive(children=(FloatSlider(value=27500.0, description='BTC Price:', max=60000.0, min=1000.0, step=500.0…"
      ]
     },
     "execution_count": 40,
     "metadata": {},
     "output_type": "execute_result"
    }
   ],
   "source": [
    "import numpy as np\n",
    "import matplotlib.pyplot as plt\n",
    "import ipywidgets as widgets\n",
    "from scipy.interpolate import interp1d\n",
    "\n",
    "# Given data\n",
    "average_powers = np.array([906.7, 1240.2, 1542.7, 1849.2, 2166.0, 2497.9, 2868.1, 3261.5, 3627.5])\n",
    "average_efficiencies = np.array([47.194462, 42.118347, 39.609324, 38.250711, 37.462641, 37.112756, 37.500376, 37.913485, 38.430896])\n",
    "\n",
    "# Convert efficiencies to TH/W for interpolation (since the provided data is W/TH)\n",
    "average_efficiencies = 1 / average_efficiencies\n",
    "\n",
    "# Create an interpolation function based on the average efficiency data\n",
    "efficiency_interpolator = interp1d(average_powers, average_efficiencies, fill_value=\"extrapolate\")\n",
    "\n",
    "# Define BTC mined based on TH\n",
    "def btc_mined(total_th, k):\n",
    "    return k * total_th\n",
    "\n",
    "# Define the TH/s RT given power using the efficiency lookup\n",
    "def ths_rt_given_power(power):\n",
    "    efficiency = efficiency_interpolator(power)   \n",
    "    return power * efficiency\n",
    "\n",
    "# Update the adjusted net profit function to use the new TH/s RT calculation\n",
    "def updated_net_profit(power, btc_price, electricity_rate, k, duration=1):\n",
    "    ths_rt = ths_rt_given_power(power)\n",
    "    revenue = btc_mined(ths_rt, k) * btc_price\n",
    "    electricity_cost = (power / 1000) * electricity_rate * duration  # Convert power to kW and multiply by rate and duration\n",
    "    return revenue - electricity_cost\n",
    "\n",
    "# Update the plotting function to use the new net profit calculation\n",
    "def updated_plot_net_profit(btc_price, electricity_rate):\n",
    "    k = 0.0000000914  # Fixed k value\n",
    "    powers = np.arange(200, 3601, 50)  # Power values from 200W to 3600W\n",
    "    profits = [updated_net_profit(p, btc_price, electricity_rate, k) for p in powers]\n",
    "    \n",
    "    plt.figure(figsize=(12, 8))\n",
    "    plt.plot(powers, profits, label='Net Profit', color='blue')\n",
    "    \n",
    "    # Check if all profits are negative\n",
    "    if all(p <= 0 for p in profits):\n",
    "        plt.axhline(0, color='red', linestyle='--', label='Not Profitable')\n",
    "    else:\n",
    "        plt.axvline(powers[np.argmax(profits)], color='red', linestyle='--', label=f'Optimal Power: {powers[np.argmax(profits)]}W')\n",
    "    \n",
    "    plt.title(\"Net Profit vs. Power in Watts\")\n",
    "    plt.xlabel(\"Power (W)\")\n",
    "    plt.ylabel(\"Net Profit ($/hr)\")\n",
    "    plt.legend()\n",
    "    plt.grid(True)\n",
    "    plt.tight_layout()\n",
    "    plt.show()\n",
    "\n",
    "# Interactive widgets\n",
    "btc_price_slider = widgets.FloatSlider(value=27500, min=1000, max=60000, step=500, description='BTC Price:')\n",
    "electricity_rate_slider = widgets.FloatSlider(value=0.03, min=0.01, max=0.50, step=0.001, description='Electricity Rate:', readout_format='.3f')\n",
    "\n",
    "# Display the updated interactive plot\n",
    "widgets.interactive(updated_plot_net_profit, btc_price=btc_price_slider, electricity_rate=electricity_rate_slider)\n"
   ]
  }
 ],
 "metadata": {
  "kernelspec": {
   "display_name": "venv",
   "language": "python",
   "name": "python3"
  },
  "language_info": {
   "codemirror_mode": {
    "name": "ipython",
    "version": 3
   },
   "file_extension": ".py",
   "mimetype": "text/x-python",
   "name": "python",
   "nbconvert_exporter": "python",
   "pygments_lexer": "ipython3",
   "version": "3.10.4"
  },
  "orig_nbformat": 4
 },
 "nbformat": 4,
 "nbformat_minor": 2
}
